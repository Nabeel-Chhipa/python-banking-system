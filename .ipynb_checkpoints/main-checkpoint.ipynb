{
 "cells": [
  {
   "cell_type": "code",
   "execution_count": 22,
   "id": "7ace4ff3-b1ed-4def-893c-960f76367516",
   "metadata": {},
   "outputs": [
    {
     "name": "stdout",
     "output_type": "stream",
     "text": [
      "Your current account balance is: 500\n",
      "Transaction Statement for Account: 123\n",
      "500Pkr Deposited.\n"
     ]
    }
   ],
   "source": [
    "class BankAccount:\n",
    "    def __init__(self, account_number, account_holder):\n",
    "        self.account_number = account_number\n",
    "        self.account_holder = account_holder\n",
    "        self.balance = 0\n",
    "        self.transactions = []\n",
    "\n",
    "    def deposit(self, amount):\n",
    "        if amount > 0:\n",
    "            self.balance += amount\n",
    "            self.add_transaction(f\"{amount}Pkr Deposited.\")\n",
    "        else:\n",
    "            print(\"Invalid deposit amount\")\n",
    "\n",
    "    def add_transaction(self, description):\n",
    "        self.transactions.append(description)\n",
    "\n",
    "    def withdraw(self, amount):\n",
    "        if amount <= self.balance:\n",
    "            self.balance -= amount\n",
    "            print(f\"{self.balance} amount have been withdraw successfully\")\n",
    "        else:\n",
    "            print('Insuffient balance')\n",
    "\n",
    "    def check_balance(self):\n",
    "        print(f\"Your current account balance is: {self.balance}\")\n",
    "\n",
    "    def print_statement(self):\n",
    "        print(f\"Transaction Statement for Account: {self.account_number}\")\n",
    "        for transactions in self.transactions:\n",
    "            print(transactions)\n",
    "\n",
    "class Bank:\n",
    "    def __init__(self):\n",
    "        self.accounts = {}\n",
    "\n",
    "user = BankAccount(123, 'Nabeel')\n",
    "user.deposit(500)\n",
    "# user.withdraw(200)\n",
    "user.check_balance()\n",
    "user.print_statement()"
   ]
  }
 ],
 "metadata": {
  "kernelspec": {
   "display_name": "Python 3 (ipykernel)",
   "language": "python",
   "name": "python3"
  },
  "language_info": {
   "codemirror_mode": {
    "name": "ipython",
    "version": 3
   },
   "file_extension": ".py",
   "mimetype": "text/x-python",
   "name": "python",
   "nbconvert_exporter": "python",
   "pygments_lexer": "ipython3",
   "version": "3.12.7"
  }
 },
 "nbformat": 4,
 "nbformat_minor": 5
}
